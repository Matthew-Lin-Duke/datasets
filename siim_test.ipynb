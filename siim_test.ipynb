{
 "cells": [
  {
   "cell_type": "code",
   "execution_count": 1,
   "metadata": {},
   "outputs": [
    {
     "name": "stdout",
     "output_type": "stream",
     "text": [
      "Requirement already satisfied: tensorflow-datasets[siim_acr_pneumothorax] in /opt/conda/lib/python3.7/site-packages (3.2.1)\n",
      "\u001b[33m  WARNING: tensorflow-datasets 3.2.1 does not provide the extra 'siim_acr_pneumothorax'\u001b[0m\n",
      "Requirement already satisfied: requests>=2.19.0 in /opt/conda/lib/python3.7/site-packages (from tensorflow-datasets[siim_acr_pneumothorax]) (2.24.0)\n",
      "Requirement already satisfied: tqdm in /opt/conda/lib/python3.7/site-packages (from tensorflow-datasets[siim_acr_pneumothorax]) (4.48.2)\n",
      "Requirement already satisfied: dill in /opt/conda/lib/python3.7/site-packages (from tensorflow-datasets[siim_acr_pneumothorax]) (0.3.1.1)\n",
      "Requirement already satisfied: promise in /opt/conda/lib/python3.7/site-packages (from tensorflow-datasets[siim_acr_pneumothorax]) (2.3)\n",
      "Requirement already satisfied: attrs>=18.1.0 in /opt/conda/lib/python3.7/site-packages (from tensorflow-datasets[siim_acr_pneumothorax]) (20.1.0)\n",
      "Requirement already satisfied: absl-py in /opt/conda/lib/python3.7/site-packages (from tensorflow-datasets[siim_acr_pneumothorax]) (0.8.1)\n",
      "Requirement already satisfied: termcolor in /opt/conda/lib/python3.7/site-packages (from tensorflow-datasets[siim_acr_pneumothorax]) (1.1.0)\n",
      "Requirement already satisfied: tensorflow-metadata in /opt/conda/lib/python3.7/site-packages (from tensorflow-datasets[siim_acr_pneumothorax]) (0.22.2)\n",
      "Requirement already satisfied: wrapt in /opt/conda/lib/python3.7/site-packages (from tensorflow-datasets[siim_acr_pneumothorax]) (1.12.1)\n",
      "Requirement already satisfied: six in /opt/conda/lib/python3.7/site-packages (from tensorflow-datasets[siim_acr_pneumothorax]) (1.15.0)\n",
      "Requirement already satisfied: numpy in /opt/conda/lib/python3.7/site-packages (from tensorflow-datasets[siim_acr_pneumothorax]) (1.18.5)\n",
      "Requirement already satisfied: future in /opt/conda/lib/python3.7/site-packages (from tensorflow-datasets[siim_acr_pneumothorax]) (0.18.2)\n",
      "Requirement already satisfied: protobuf>=3.6.1 in /opt/conda/lib/python3.7/site-packages (from tensorflow-datasets[siim_acr_pneumothorax]) (3.13.0)\n",
      "Requirement already satisfied: chardet<4,>=3.0.2 in /opt/conda/lib/python3.7/site-packages (from requests>=2.19.0->tensorflow-datasets[siim_acr_pneumothorax]) (3.0.4)\n",
      "Requirement already satisfied: idna<3,>=2.5 in /opt/conda/lib/python3.7/site-packages (from requests>=2.19.0->tensorflow-datasets[siim_acr_pneumothorax]) (2.10)\n",
      "Requirement already satisfied: urllib3!=1.25.0,!=1.25.1,<1.26,>=1.21.1 in /opt/conda/lib/python3.7/site-packages (from requests>=2.19.0->tensorflow-datasets[siim_acr_pneumothorax]) (1.24.3)\n",
      "Requirement already satisfied: certifi>=2017.4.17 in /opt/conda/lib/python3.7/site-packages (from requests>=2.19.0->tensorflow-datasets[siim_acr_pneumothorax]) (2020.6.20)\n",
      "Requirement already satisfied: googleapis-common-protos in /opt/conda/lib/python3.7/site-packages (from tensorflow-metadata->tensorflow-datasets[siim_acr_pneumothorax]) (1.51.0)\n",
      "Requirement already satisfied: setuptools in /opt/conda/lib/python3.7/site-packages (from protobuf>=3.6.1->tensorflow-datasets[siim_acr_pneumothorax]) (49.6.0.post20200814)\n"
     ]
    }
   ],
   "source": [
    "!pip3 uninstall tensowflow"
   ]
  },
  {
   "cell_type": "code",
   "execution_count": null,
   "metadata": {},
   "outputs": [],
   "source": [
    "!pip install tensorflow-datasets[siim_acr_pneumothorax]\n",
    "!pip install -q tensorflow_data_validation[visualization]"
   ]
  },
  {
   "cell_type": "markdown",
   "metadata": {},
   "source": [
    "#### Kaggle API download link:  \n",
    "kaggle datasets download -d seesee/siim-train-test"
   ]
  },
  {
   "cell_type": "code",
   "execution_count": 1,
   "metadata": {},
   "outputs": [],
   "source": [
    "import tensorflow_datasets as tfds\n",
    "import tensorflow as tf"
   ]
  },
  {
   "cell_type": "code",
   "execution_count": 5,
   "metadata": {},
   "outputs": [],
   "source": [
    "ds = tfds.load('siim_acr_pneumothorax', shuffle_files=False, as_supervised=True)"
   ]
  },
  {
   "cell_type": "code",
   "execution_count": 4,
   "metadata": {
    "collapsed": true,
    "jupyter": {
     "outputs_hidden": true
    }
   },
   "outputs": [
    {
     "name": "stdout",
     "output_type": "stream",
     "text": [
      "\u001b[1mDownloading and preparing dataset siim_acr_pneumothorax/0.1.0 (download: Unknown size, generated: Unknown size, total: Unknown size) to /home/jupyter/tensorflow_datasets/siim_acr_pneumothorax/0.1.0...\u001b[0m\n"
     ]
    },
    {
     "data": {
      "application/vnd.jupyter.widget-view+json": {
       "model_id": "",
       "version_major": 2,
       "version_minor": 0
      },
      "text/plain": [
       "HBox(children=(FloatProgress(value=1.0, bar_style='info', layout=Layout(width='20px'), max=1.0), HTML(value=''…"
      ]
     },
     "metadata": {},
     "output_type": "display_data"
    },
    {
     "name": "stdout",
     "output_type": "stream",
     "text": [
      "Shuffling and writing examples to /home/jupyter/tensorflow_datasets/siim_acr_pneumothorax/0.1.0.incompleteD1I8AG/siim_acr_pneumothorax-train.tfrecord\n"
     ]
    },
    {
     "data": {
      "application/vnd.jupyter.widget-view+json": {
       "model_id": "ddf1cc03bfd84baebed8fbdb72664e77",
       "version_major": 2,
       "version_minor": 0
      },
      "text/plain": [
       "HBox(children=(FloatProgress(value=0.0, max=11.0), HTML(value='')))"
      ]
     },
     "metadata": {},
     "output_type": "display_data"
    },
    {
     "data": {
      "application/vnd.jupyter.widget-view+json": {
       "model_id": "df693cf8340b4cbfbdfedd46c9fd5847",
       "version_major": 2,
       "version_minor": 0
      },
      "text/plain": [
       "HBox(children=(FloatProgress(value=0.0, description='Computing statistics...', max=1.0, style=ProgressStyle(de…"
      ]
     },
     "metadata": {},
     "output_type": "display_data"
    },
    {
     "data": {
      "application/javascript": [
       "\n",
       "        if (typeof window.interactive_beam_jquery == 'undefined') {\n",
       "          var jqueryScript = document.createElement('script');\n",
       "          jqueryScript.src = 'https://code.jquery.com/jquery-3.4.1.slim.min.js';\n",
       "          jqueryScript.type = 'text/javascript';\n",
       "          jqueryScript.onload = function() {\n",
       "            var datatableScript = document.createElement('script');\n",
       "            datatableScript.src = 'https://cdn.datatables.net/1.10.20/js/jquery.dataTables.min.js';\n",
       "            datatableScript.type = 'text/javascript';\n",
       "            datatableScript.onload = function() {\n",
       "              window.interactive_beam_jquery = jQuery.noConflict(true);\n",
       "              window.interactive_beam_jquery(document).ready(function($){\n",
       "                \n",
       "              });\n",
       "            }\n",
       "            document.head.appendChild(datatableScript);\n",
       "          };\n",
       "          document.head.appendChild(jqueryScript);\n",
       "        } else {\n",
       "          window.interactive_beam_jquery(document).ready(function($){\n",
       "            \n",
       "          });\n",
       "        }"
      ]
     },
     "metadata": {},
     "output_type": "display_data"
    },
    {
     "data": {
      "application/javascript": [
       "\n",
       "        var import_html = () => {\n",
       "          ['https://raw.githubusercontent.com/PAIR-code/facets/1.0.0/facets-dist/facets-jupyter.html'].forEach(href => {\n",
       "            var link = document.createElement('link');\n",
       "            link.rel = 'import'\n",
       "            link.href = href;\n",
       "            document.head.appendChild(link);\n",
       "          });\n",
       "        }\n",
       "        if ('import' in document.createElement('link')) {\n",
       "          import_html();\n",
       "        } else {\n",
       "          var webcomponentScript = document.createElement('script');\n",
       "          webcomponentScript.src = 'https://cdnjs.cloudflare.com/ajax/libs/webcomponentsjs/1.3.3/webcomponents-lite.js';\n",
       "          webcomponentScript.type = 'text/javascript';\n",
       "          webcomponentScript.onload = function(){\n",
       "            import_html();\n",
       "          };\n",
       "          document.head.appendChild(webcomponentScript);\n",
       "        }"
      ]
     },
     "metadata": {},
     "output_type": "display_data"
    },
    {
     "name": "stderr",
     "output_type": "stream",
     "text": [
      "WARNING:apache_beam.io.tfrecordio:Couldn't find python-snappy so the implementation of _TFRecordUtil._masked_crc32c is not as fast as it could be.\n"
     ]
    },
    {
     "name": "stdout",
     "output_type": "stream",
     "text": [
      "WARNING:tensorflow:From /opt/conda/lib/python3.7/site-packages/tensorflow_data_validation/utils/stats_util.py:229: tf_record_iterator (from tensorflow.python.lib.io.tf_record) is deprecated and will be removed in a future version.\n",
      "Instructions for updating:\n",
      "Use eager execution and: \n",
      "`tf.data.TFRecordDataset(path)`\n"
     ]
    },
    {
     "name": "stderr",
     "output_type": "stream",
     "text": [
      "WARNING:tensorflow:From /opt/conda/lib/python3.7/site-packages/tensorflow_data_validation/utils/stats_util.py:229: tf_record_iterator (from tensorflow.python.lib.io.tf_record) is deprecated and will be removed in a future version.\n",
      "Instructions for updating:\n",
      "Use eager execution and: \n",
      "`tf.data.TFRecordDataset(path)`\n"
     ]
    },
    {
     "name": "stdout",
     "output_type": "stream",
     "text": [
      "\n",
      "\u001b[1mDataset siim_acr_pneumothorax downloaded and prepared to /home/jupyter/tensorflow_datasets/siim_acr_pneumothorax/0.1.0. Subsequent calls will reuse this data.\u001b[0m\n"
     ]
    }
   ],
   "source": [
    "# ds = tfds.load('siim_acr_pneumothorax',\n",
    "#                download_and_prepare_kwargs={'download_config': tfds.download.DownloadConfig(manual_dir='/home/jupyter/workspace/siim-short')})"
   ]
  },
  {
   "cell_type": "code",
   "execution_count": 6,
   "metadata": {},
   "outputs": [],
   "source": [
    "test_iter = iter(ds['train'])\n",
    "test = next(test_iter)"
   ]
  },
  {
   "cell_type": "code",
   "execution_count": 7,
   "metadata": {},
   "outputs": [],
   "source": [
    "import matplotlib.pyplot as plt"
   ]
  },
  {
   "cell_type": "code",
   "execution_count": 7,
   "metadata": {},
   "outputs": [
    {
     "data": {
      "text/plain": [
       "{'train': <PrefetchDataset shapes: ((1024, 1024, 1), (1024, 1024, 1)), types: (tf.uint8, tf.bool)>}"
      ]
     },
     "execution_count": 7,
     "metadata": {},
     "output_type": "execute_result"
    }
   ],
   "source": []
  },
  {
   "cell_type": "code",
   "execution_count": 2,
   "metadata": {},
   "outputs": [
    {
     "name": "stdout",
     "output_type": "stream",
     "text": [
      "Running tests under Python 3.7.8: /opt/conda/bin/python3\n",
      "[ RUN      ] SiimAcrPneumothoraxTest.test_baseclass\n",
      "[  FAILED  ] SiimAcrPneumothoraxTest.test_baseclass\n",
      "[ RUN      ] SiimAcrPneumothoraxTest.test_download_and_prepare_as_dataset\n",
      "[  FAILED  ] SiimAcrPneumothoraxTest.test_download_and_prepare_as_dataset\n",
      "[ RUN      ] SiimAcrPneumothoraxTest.test_info\n",
      "[  FAILED  ] SiimAcrPneumothoraxTest.test_info\n",
      "[ RUN      ] SiimAcrPneumothoraxTest.test_registered\n",
      "[  FAILED  ] SiimAcrPneumothoraxTest.test_registered\n",
      "[ RUN      ] SiimAcrPneumothoraxTest.test_session\n",
      "[  SKIPPED ] SiimAcrPneumothoraxTest.test_session\n",
      "======================================================================\n",
      "FAIL: test_baseclass (__main__.SiimAcrPneumothoraxTest)\n",
      "test_baseclass (__main__.SiimAcrPneumothoraxTest)\n",
      "----------------------------------------------------------------------\n",
      "Traceback (most recent call last):\n",
      "  File \"/opt/conda/lib/python3.7/site-packages/tensorflow_datasets/testing/dataset_builder_testing.py\", line 159, in setUp\n",
      "    self.builder = self._make_builder()\n",
      "  File \"/opt/conda/lib/python3.7/site-packages/tensorflow_datasets/testing/dataset_builder_testing.py\", line 275, in _make_builder\n",
      "    version=self.VERSION)\n",
      "  File \"/opt/conda/lib/python3.7/site-packages/tensorflow_datasets/core/api_utils.py\", line 69, in disallow_positional_args_dec\n",
      "    return fn(*args, **kwargs)\n",
      "  File \"/opt/conda/lib/python3.7/site-packages/tensorflow_datasets/core/dataset_builder.py\", line 206, in __init__\n",
      "    self.info.initialize_from_bucket()\n",
      "  File \"/opt/conda/lib/python3.7/site-packages/tensorflow_datasets/core/utils/py_utils.py\", line 160, in __get__\n",
      "    cached = self.fget(obj)  # pytype: disable=attribute-error\n",
      "  File \"/opt/conda/lib/python3.7/site-packages/tensorflow_datasets/core/dataset_builder.py\", line 269, in info\n",
      "    return self._info()\n",
      "  File \"/opt/conda/lib/python3.7/site-packages/tensorflow_datasets/image/siim_acr_pneumothorax.py\", line 36, in _info\n",
      "    citation=_CITATION,\n",
      "  File \"/opt/conda/lib/python3.7/site-packages/tensorflow_datasets/core/api_utils.py\", line 69, in disallow_positional_args_dec\n",
      "    return fn(*args, **kwargs)\n",
      "  File \"/opt/conda/lib/python3.7/site-packages/tensorflow_datasets/core/dataset_info.py\", line 151, in __init__\n",
      "    assert len(supervised_keys) == 2\n",
      "AssertionError\n",
      "\n",
      "======================================================================\n",
      "FAIL: test_download_and_prepare_as_dataset (__main__.SiimAcrPneumothoraxTest)\n",
      "test_download_and_prepare_as_dataset (__main__.SiimAcrPneumothoraxTest)\n",
      "Run the decorated test method.\n",
      "----------------------------------------------------------------------\n",
      "Traceback (most recent call last):\n",
      "  File \"/opt/conda/lib/python3.7/site-packages/tensorflow_datasets/testing/dataset_builder_testing.py\", line 159, in setUp\n",
      "    self.builder = self._make_builder()\n",
      "  File \"/opt/conda/lib/python3.7/site-packages/tensorflow_datasets/testing/dataset_builder_testing.py\", line 275, in _make_builder\n",
      "    version=self.VERSION)\n",
      "  File \"/opt/conda/lib/python3.7/site-packages/tensorflow_datasets/core/api_utils.py\", line 69, in disallow_positional_args_dec\n",
      "    return fn(*args, **kwargs)\n",
      "  File \"/opt/conda/lib/python3.7/site-packages/tensorflow_datasets/core/dataset_builder.py\", line 206, in __init__\n",
      "    self.info.initialize_from_bucket()\n",
      "  File \"/opt/conda/lib/python3.7/site-packages/tensorflow_datasets/core/utils/py_utils.py\", line 160, in __get__\n",
      "    cached = self.fget(obj)  # pytype: disable=attribute-error\n",
      "  File \"/opt/conda/lib/python3.7/site-packages/tensorflow_datasets/core/dataset_builder.py\", line 269, in info\n",
      "    return self._info()\n",
      "  File \"/opt/conda/lib/python3.7/site-packages/tensorflow_datasets/image/siim_acr_pneumothorax.py\", line 36, in _info\n",
      "    citation=_CITATION,\n",
      "  File \"/opt/conda/lib/python3.7/site-packages/tensorflow_datasets/core/api_utils.py\", line 69, in disallow_positional_args_dec\n",
      "    return fn(*args, **kwargs)\n",
      "  File \"/opt/conda/lib/python3.7/site-packages/tensorflow_datasets/core/dataset_info.py\", line 151, in __init__\n",
      "    assert len(supervised_keys) == 2\n",
      "AssertionError\n",
      "\n",
      "======================================================================\n",
      "FAIL: test_info (__main__.SiimAcrPneumothoraxTest)\n",
      "test_info (__main__.SiimAcrPneumothoraxTest)\n",
      "----------------------------------------------------------------------\n",
      "Traceback (most recent call last):\n",
      "  File \"/opt/conda/lib/python3.7/site-packages/tensorflow_datasets/testing/dataset_builder_testing.py\", line 159, in setUp\n",
      "    self.builder = self._make_builder()\n",
      "  File \"/opt/conda/lib/python3.7/site-packages/tensorflow_datasets/testing/dataset_builder_testing.py\", line 275, in _make_builder\n",
      "    version=self.VERSION)\n",
      "  File \"/opt/conda/lib/python3.7/site-packages/tensorflow_datasets/core/api_utils.py\", line 69, in disallow_positional_args_dec\n",
      "    return fn(*args, **kwargs)\n",
      "  File \"/opt/conda/lib/python3.7/site-packages/tensorflow_datasets/core/dataset_builder.py\", line 206, in __init__\n",
      "    self.info.initialize_from_bucket()\n",
      "  File \"/opt/conda/lib/python3.7/site-packages/tensorflow_datasets/core/utils/py_utils.py\", line 160, in __get__\n",
      "    cached = self.fget(obj)  # pytype: disable=attribute-error\n",
      "  File \"/opt/conda/lib/python3.7/site-packages/tensorflow_datasets/core/dataset_builder.py\", line 269, in info\n",
      "    return self._info()\n",
      "  File \"/opt/conda/lib/python3.7/site-packages/tensorflow_datasets/image/siim_acr_pneumothorax.py\", line 36, in _info\n",
      "    citation=_CITATION,\n",
      "  File \"/opt/conda/lib/python3.7/site-packages/tensorflow_datasets/core/api_utils.py\", line 69, in disallow_positional_args_dec\n",
      "    return fn(*args, **kwargs)\n",
      "  File \"/opt/conda/lib/python3.7/site-packages/tensorflow_datasets/core/dataset_info.py\", line 151, in __init__\n",
      "    assert len(supervised_keys) == 2\n",
      "AssertionError\n",
      "\n",
      "======================================================================\n",
      "FAIL: test_registered (__main__.SiimAcrPneumothoraxTest)\n",
      "test_registered (__main__.SiimAcrPneumothoraxTest)\n",
      "----------------------------------------------------------------------\n",
      "Traceback (most recent call last):\n",
      "  File \"/opt/conda/lib/python3.7/site-packages/tensorflow_datasets/testing/dataset_builder_testing.py\", line 159, in setUp\n",
      "    self.builder = self._make_builder()\n",
      "  File \"/opt/conda/lib/python3.7/site-packages/tensorflow_datasets/testing/dataset_builder_testing.py\", line 275, in _make_builder\n",
      "    version=self.VERSION)\n",
      "  File \"/opt/conda/lib/python3.7/site-packages/tensorflow_datasets/core/api_utils.py\", line 69, in disallow_positional_args_dec\n",
      "    return fn(*args, **kwargs)\n",
      "  File \"/opt/conda/lib/python3.7/site-packages/tensorflow_datasets/core/dataset_builder.py\", line 206, in __init__\n",
      "    self.info.initialize_from_bucket()\n",
      "  File \"/opt/conda/lib/python3.7/site-packages/tensorflow_datasets/core/utils/py_utils.py\", line 160, in __get__\n",
      "    cached = self.fget(obj)  # pytype: disable=attribute-error\n",
      "  File \"/opt/conda/lib/python3.7/site-packages/tensorflow_datasets/core/dataset_builder.py\", line 269, in info\n",
      "    return self._info()\n",
      "  File \"/opt/conda/lib/python3.7/site-packages/tensorflow_datasets/image/siim_acr_pneumothorax.py\", line 36, in _info\n",
      "    citation=_CITATION,\n",
      "  File \"/opt/conda/lib/python3.7/site-packages/tensorflow_datasets/core/api_utils.py\", line 69, in disallow_positional_args_dec\n",
      "    return fn(*args, **kwargs)\n",
      "  File \"/opt/conda/lib/python3.7/site-packages/tensorflow_datasets/core/dataset_info.py\", line 151, in __init__\n",
      "    assert len(supervised_keys) == 2\n",
      "AssertionError\n",
      "\n",
      "----------------------------------------------------------------------\n",
      "Ran 5 tests in 0.251s\n",
      "\n",
      "FAILED (failures=4, skipped=1)\n"
     ]
    }
   ],
   "source": [
    "!python3 /home/jupyter/datasets/tensorflow_datasets/image/siim_acr_pneumothorax_test.py"
   ]
  }
 ],
 "metadata": {
  "environment": {
   "name": "tf2-2-3-gpu.2-3.m55",
   "type": "gcloud",
   "uri": "gcr.io/deeplearning-platform-release/tf2-2-3-gpu.2-3:m55"
  },
  "kernelspec": {
   "display_name": "Python 3",
   "language": "python",
   "name": "python3"
  },
  "language_info": {
   "codemirror_mode": {
    "name": "ipython",
    "version": 3
   },
   "file_extension": ".py",
   "mimetype": "text/x-python",
   "name": "python",
   "nbconvert_exporter": "python",
   "pygments_lexer": "ipython3",
   "version": "3.7.8"
  }
 },
 "nbformat": 4,
 "nbformat_minor": 4
}
